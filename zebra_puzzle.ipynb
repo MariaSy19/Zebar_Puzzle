{
 "cells": [
  {
   "cell_type": "markdown",
   "metadata": {},
   "source": [
    "## Zebra Puzzle"
   ]
  },
  {
   "cell_type": "code",
   "execution_count": null,
   "metadata": {},
   "outputs": [],
   "source": [
    "from aima.logic import FolKB, fol_fc_ask, PropKB,dpll_satisfiable\n",
    "from aima.utils import expr,Expr"
   ]
  },
  {
   "cell_type": "code",
   "execution_count": null,
   "metadata": {},
   "outputs": [],
   "source": [
    "rules = []"
   ]
  },
  {
   "cell_type": "code",
   "execution_count": null,
   "metadata": {},
   "outputs": [],
   "source": [
    "# Define the possible values for each attribute\n",
    "nationalities = ['Norwegian', 'Spaniard', 'Ukrainian']\n",
    "pets = ['Dog', 'Fox', 'Zebra']\n",
    "drinks = ['Milk', 'Tea', 'Juice']\n",
    "houses = ['House1', 'House2', 'House3']\n",
    "\n"
   ]
  },
  {
   "cell_type": "code",
   "execution_count": null,
   "metadata": {},
   "outputs": [],
   "source": [
    "for i in range(len(pets)):\n",
    "    for j in range(len(houses)):\n",
    "        for k in range(len(houses)):\n",
    "            if j != k:\n",
    "                rule = \"~(\" + pets[i] + houses[j] + \" & \" + pets[i] + houses[k] + \")\"\n",
    "                rules.append(rule)\n",
    "\n",
    "for i in range(len(drinks)):\n",
    "    for j in range(len(houses)):\n",
    "        for k in range(len(houses)):\n",
    "            if j != k:\n",
    "                rule = \"~(\" + drinks[i] + houses[j] + \" & \" + drinks[i] + houses[k] + \")\"\n",
    "                rules.append(rule)\n",
    "\n",
    "for i in range(len(nationalities)):\n",
    "    for j in range(len(houses)):\n",
    "        for k in range(len(houses)):\n",
    "            if j != k:\n",
    "                rule = \"~(\" + nationalities[i] + houses[j] + \" & \" + nationalities[i] + houses[k] + \")\"\n",
    "                rules.append(rule)\n"
   ]
  },
  {
   "cell_type": "code",
   "execution_count": null,
   "metadata": {},
   "outputs": [],
   "source": [
    "for house in houses:\n",
    "    statement = \"\"\n",
    "    for i in range(len(drinks)):\n",
    "        statement = statement + '(' + drinks[i]+ house\n",
    "        for j in range(len(drinks)):\n",
    "            if i != j:\n",
    "                statement = statement + ' & ~' + drinks[j]  + house\n",
    "        statement = statement + ') | '\n",
    "    rules.append(statement[:-2])\n",
    "for house in houses:\n",
    "    statement = \"\"\n",
    "    for i in range(len(pets)):\n",
    "        statement = statement + '(' + pets[i]  + house\n",
    "        for j in range(len(pets)):\n",
    "            if i != j:\n",
    "                statement = statement + ' & ~' + pets[j] + house\n",
    "        statement = statement + ') | '\n",
    "    rules.append(statement[:-2])\n",
    "for house in houses:\n",
    "    statement = \"\"\n",
    "    for i in range(len(nationalities)):\n",
    "        statement = statement + '(' + nationalities[i]  + house\n",
    "        for j in range(len(nationalities)):\n",
    "            if i != j:\n",
    "                statement = statement + ' & ~' + nationalities[j]  + house\n",
    "        statement = statement + ') | '\n",
    "    rules.append(statement[:-2])"
   ]
  },
  {
   "cell_type": "code",
   "execution_count": null,
   "metadata": {},
   "outputs": [],
   "source": [
    "rules.extend(['MilkHouse3',\n",
    "              '(SpaniardHouse1 & DogHouse1) |(SpaniardHouse2 & DogHouse2) |(SpaniardHouse3 & DogHouse3)',\n",
    "              '(UkrainianHouse1 & TeaHouse1) | (UkrainianHouse2 & TeaHouse2) | (UkrainianHouse3 & TeaHouse3)',\n",
    "              'NorwegianHouse1',\n",
    "              '(NorwegianHouse1 & TeaHouse2) | (NorwegianHouse2 & (TeaHouse1 | TeaHouse3))|(NorwegianHouse3 & TeaHouse2)',\n",
    "              '(JuiceHouse1 & FoxHouse1) | (JuiceHouse2 & FoxHouse2) | (JuiceHouse3 & FoxHouse3)'\n",
    "              ])"
   ]
  },
  {
   "cell_type": "code",
   "execution_count": null,
   "metadata": {},
   "outputs": [],
   "source": [
    "print(rules)"
   ]
  },
  {
   "cell_type": "code",
   "execution_count": null,
   "metadata": {},
   "outputs": [],
   "source": [
    "prop_KB = PropKB()\n",
    "for rule in rules:\n",
    "    prop_KB.tell(expr(rule))"
   ]
  },
  {
   "cell_type": "code",
   "execution_count": null,
   "metadata": {},
   "outputs": [],
   "source": [
    "print(dpll_satisfiable(Expr('&', *prop_KB.clauses)))"
   ]
  }
 ],
 "metadata": {
  "kernelspec": {
   "display_name": "Python 3",
   "language": "python",
   "name": "python3"
  },
  "language_info": {
   "codemirror_mode": {
    "name": "ipython",
    "version": 3
   },
   "file_extension": ".py",
   "mimetype": "text/x-python",
   "name": "python",
   "nbconvert_exporter": "python",
   "pygments_lexer": "ipython3",
   "version": "3.12.1"
  }
 },
 "nbformat": 4,
 "nbformat_minor": 2
}
