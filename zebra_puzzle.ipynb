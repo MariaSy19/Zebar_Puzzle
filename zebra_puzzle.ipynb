{
 "cells": [
  {
   "cell_type": "markdown",
   "metadata": {},
   "source": [
    "## Zebra Puzzle"
   ]
  },
  {
   "cell_type": "code",
   "execution_count": 5,
   "metadata": {},
   "outputs": [],
   "source": [
    "from aima.logic import FolKB, fol_fc_ask, PropKB,dpll_satisfiable\n",
    "from aima.utils import expr,Expr"
   ]
  },
  {
   "cell_type": "code",
   "execution_count": 6,
   "metadata": {},
   "outputs": [],
   "source": [
    "rules = []"
   ]
  },
  {
   "cell_type": "code",
   "execution_count": 7,
   "metadata": {},
   "outputs": [],
   "source": [
    "# Define the possible values for each attribute\n",
    "nationalities = ['Norwegian', 'Spaniard', 'Ukrainian']\n",
    "pets = ['Dog', 'Fox', 'Zebra']\n",
    "drinks = ['Milk', 'Tea', 'Juice']\n",
    "houses = ['House1', 'House2', 'House3']\n",
    "\n"
   ]
  },
  {
   "cell_type": "code",
   "execution_count": 8,
   "metadata": {},
   "outputs": [],
   "source": [
    "for i in range(len(pets)):\n",
    "    for j in range(len(houses)):\n",
    "        for k in range(len(houses)):\n",
    "            if j != k:\n",
    "                rule = \"~(\" + pets[i] + houses[j] + \" & \" + pets[i] + houses[k] + \")\"\n",
    "                rules.append(rule)\n",
    "\n",
    "for i in range(len(drinks)):\n",
    "    for j in range(len(houses)):\n",
    "        for k in range(len(houses)):\n",
    "            if j != k:\n",
    "                rule = \"~(\" + drinks[i] + houses[j] + \" & \" + drinks[i] + houses[k] + \")\"\n",
    "                rules.append(rule)\n",
    "\n",
    "for i in range(len(nationalities)):\n",
    "    for j in range(len(houses)):\n",
    "        for k in range(len(houses)):\n",
    "            if j != k:\n",
    "                rule = \"~(\" + nationalities[i] + houses[j] + \" & \" + nationalities[i] + houses[k] + \")\"\n",
    "                rules.append(rule)\n"
   ]
  },
  {
   "cell_type": "code",
   "execution_count": 9,
   "metadata": {},
   "outputs": [],
   "source": [
    "for house in houses:\n",
    "    statement = \"\"\n",
    "    for i in range(len(drinks)):\n",
    "        statement = statement + '(' + drinks[i]+ house\n",
    "        for j in range(len(drinks)):\n",
    "            if i != j:\n",
    "                statement = statement + ' & ~' + drinks[j]  + house\n",
    "        statement = statement + ') | '\n",
    "    rules.append(statement[:-2])\n",
    "for house in houses:\n",
    "    statement = \"\"\n",
    "    for i in range(len(pets)):\n",
    "        statement = statement + '(' + pets[i]  + house\n",
    "        for j in range(len(pets)):\n",
    "            if i != j:\n",
    "                statement = statement + ' & ~' + pets[j] + house\n",
    "        statement = statement + ') | '\n",
    "    rules.append(statement[:-2])\n",
    "for house in houses:\n",
    "    statement = \"\"\n",
    "    for i in range(len(nationalities)):\n",
    "        statement = statement + '(' + nationalities[i]  + house\n",
    "        for j in range(len(nationalities)):\n",
    "            if i != j:\n",
    "                statement = statement + ' & ~' + nationalities[j]  + house\n",
    "        statement = statement + ') | '\n",
    "    rules.append(statement[:-2])"
   ]
  },
  {
   "cell_type": "code",
   "execution_count": 10,
   "metadata": {},
   "outputs": [],
   "source": [
    "rules.extend(['MilkHouse3',\n",
    "              '(SpaniardHouse1 & DogHouse1) |(SpaniardHouse2 & DogHouse2) |(SpaniardHouse3 & DogHouse3)',\n",
    "              '(UkrainianHouse1 & TeaHouse1) | (UkrainianHouse2 & TeaHouse2) | (UkrainianHouse3 & TeaHouse3)',\n",
    "              'NorwegianHouse1',\n",
    "              '(NorwegianHouse1 & TeaHouse2) | (NorwegianHouse2 & (TeaHouse1 | TeaHouse3))|(NorwegianHouse3 & TeaHouse2)',\n",
    "              '(JuiceHouse1 & FoxHouse1) | (JuiceHouse2 & FoxHouse2) | (JuiceHouse3 & FoxHouse3)'\n",
    "              ])"
   ]
  },
  {
   "cell_type": "code",
   "execution_count": 11,
   "metadata": {},
   "outputs": [
    {
     "name": "stdout",
     "output_type": "stream",
     "text": [
      "['~(DogHouse1 & DogHouse2)', '~(DogHouse1 & DogHouse3)', '~(DogHouse2 & DogHouse1)', '~(DogHouse2 & DogHouse3)', '~(DogHouse3 & DogHouse1)', '~(DogHouse3 & DogHouse2)', '~(FoxHouse1 & FoxHouse2)', '~(FoxHouse1 & FoxHouse3)', '~(FoxHouse2 & FoxHouse1)', '~(FoxHouse2 & FoxHouse3)', '~(FoxHouse3 & FoxHouse1)', '~(FoxHouse3 & FoxHouse2)', '~(ZebraHouse1 & ZebraHouse2)', '~(ZebraHouse1 & ZebraHouse3)', '~(ZebraHouse2 & ZebraHouse1)', '~(ZebraHouse2 & ZebraHouse3)', '~(ZebraHouse3 & ZebraHouse1)', '~(ZebraHouse3 & ZebraHouse2)', '~(MilkHouse1 & MilkHouse2)', '~(MilkHouse1 & MilkHouse3)', '~(MilkHouse2 & MilkHouse1)', '~(MilkHouse2 & MilkHouse3)', '~(MilkHouse3 & MilkHouse1)', '~(MilkHouse3 & MilkHouse2)', '~(TeaHouse1 & TeaHouse2)', '~(TeaHouse1 & TeaHouse3)', '~(TeaHouse2 & TeaHouse1)', '~(TeaHouse2 & TeaHouse3)', '~(TeaHouse3 & TeaHouse1)', '~(TeaHouse3 & TeaHouse2)', '~(JuiceHouse1 & JuiceHouse2)', '~(JuiceHouse1 & JuiceHouse3)', '~(JuiceHouse2 & JuiceHouse1)', '~(JuiceHouse2 & JuiceHouse3)', '~(JuiceHouse3 & JuiceHouse1)', '~(JuiceHouse3 & JuiceHouse2)', '~(NorwegianHouse1 & NorwegianHouse2)', '~(NorwegianHouse1 & NorwegianHouse3)', '~(NorwegianHouse2 & NorwegianHouse1)', '~(NorwegianHouse2 & NorwegianHouse3)', '~(NorwegianHouse3 & NorwegianHouse1)', '~(NorwegianHouse3 & NorwegianHouse2)', '~(SpaniardHouse1 & SpaniardHouse2)', '~(SpaniardHouse1 & SpaniardHouse3)', '~(SpaniardHouse2 & SpaniardHouse1)', '~(SpaniardHouse2 & SpaniardHouse3)', '~(SpaniardHouse3 & SpaniardHouse1)', '~(SpaniardHouse3 & SpaniardHouse2)', '~(UkrainianHouse1 & UkrainianHouse2)', '~(UkrainianHouse1 & UkrainianHouse3)', '~(UkrainianHouse2 & UkrainianHouse1)', '~(UkrainianHouse2 & UkrainianHouse3)', '~(UkrainianHouse3 & UkrainianHouse1)', '~(UkrainianHouse3 & UkrainianHouse2)', '(MilkHouse1 & ~TeaHouse1 & ~JuiceHouse1) | (TeaHouse1 & ~MilkHouse1 & ~JuiceHouse1) | (JuiceHouse1 & ~MilkHouse1 & ~TeaHouse1) ', '(MilkHouse2 & ~TeaHouse2 & ~JuiceHouse2) | (TeaHouse2 & ~MilkHouse2 & ~JuiceHouse2) | (JuiceHouse2 & ~MilkHouse2 & ~TeaHouse2) ', '(MilkHouse3 & ~TeaHouse3 & ~JuiceHouse3) | (TeaHouse3 & ~MilkHouse3 & ~JuiceHouse3) | (JuiceHouse3 & ~MilkHouse3 & ~TeaHouse3) ', '(DogHouse1 & ~FoxHouse1 & ~ZebraHouse1) | (FoxHouse1 & ~DogHouse1 & ~ZebraHouse1) | (ZebraHouse1 & ~DogHouse1 & ~FoxHouse1) ', '(DogHouse2 & ~FoxHouse2 & ~ZebraHouse2) | (FoxHouse2 & ~DogHouse2 & ~ZebraHouse2) | (ZebraHouse2 & ~DogHouse2 & ~FoxHouse2) ', '(DogHouse3 & ~FoxHouse3 & ~ZebraHouse3) | (FoxHouse3 & ~DogHouse3 & ~ZebraHouse3) | (ZebraHouse3 & ~DogHouse3 & ~FoxHouse3) ', '(NorwegianHouse1 & ~SpaniardHouse1 & ~UkrainianHouse1) | (SpaniardHouse1 & ~NorwegianHouse1 & ~UkrainianHouse1) | (UkrainianHouse1 & ~NorwegianHouse1 & ~SpaniardHouse1) ', '(NorwegianHouse2 & ~SpaniardHouse2 & ~UkrainianHouse2) | (SpaniardHouse2 & ~NorwegianHouse2 & ~UkrainianHouse2) | (UkrainianHouse2 & ~NorwegianHouse2 & ~SpaniardHouse2) ', '(NorwegianHouse3 & ~SpaniardHouse3 & ~UkrainianHouse3) | (SpaniardHouse3 & ~NorwegianHouse3 & ~UkrainianHouse3) | (UkrainianHouse3 & ~NorwegianHouse3 & ~SpaniardHouse3) ', 'MilkHouse3', '(SpaniardHouse1 & DogHouse1) |(SpaniardHouse2 & DogHouse2) |(SpaniardHouse3 & DogHouse3)', '(UkrainianHouse1 & TeaHouse1) | (UkrainianHouse2 & TeaHouse2) | (UkrainianHouse3 & TeaHouse3)', 'NorwegianHouse1', '(NorwegianHouse1 & TeaHouse2) | (NorwegianHouse2 & (TeaHouse1 | TeaHouse3))|(NorwegianHouse3 & TeaHouse2)', '(JuiceHouse1 & FoxHouse1) | (JuiceHouse2 & FoxHouse2) | (JuiceHouse3 & FoxHouse3)']\n"
     ]
    }
   ],
   "source": [
    "print(rules)"
   ]
  },
  {
   "cell_type": "code",
   "execution_count": 12,
   "metadata": {},
   "outputs": [],
   "source": [
    "prop_KB = PropKB()\n",
    "for rule in rules:\n",
    "    prop_KB.tell(expr(rule))"
   ]
  },
  {
   "cell_type": "code",
   "execution_count": 13,
   "metadata": {},
   "outputs": [
    {
     "name": "stdout",
     "output_type": "stream",
     "text": [
      "{MilkHouse3: True, MilkHouse1: False, MilkHouse2: False, TeaHouse3: False, JuiceHouse3: False, NorwegianHouse1: True, NorwegianHouse2: False, NorwegianHouse3: False, SpaniardHouse1: False, UkrainianHouse1: False, UkrainianHouse2: True, UkrainianHouse3: False, SpaniardHouse2: False, SpaniardHouse3: True, DogHouse3: True, DogHouse1: False, DogHouse2: False, FoxHouse3: False, ZebraHouse3: False, TeaHouse2: True, TeaHouse1: False, JuiceHouse1: True, JuiceHouse2: False, FoxHouse1: True, FoxHouse2: False, ZebraHouse1: False, ZebraHouse2: True}\n"
     ]
    }
   ],
   "source": [
    "print(dpll_satisfiable(Expr('&', *prop_KB.clauses)))"
   ]
  }
 ],
 "metadata": {
  "kernelspec": {
   "display_name": "Python 3",
   "language": "python",
   "name": "python3"
  },
  "language_info": {
   "codemirror_mode": {
    "name": "ipython",
    "version": 3
   },
   "file_extension": ".py",
   "mimetype": "text/x-python",
   "name": "python",
   "nbconvert_exporter": "python",
   "pygments_lexer": "ipython3",
   "version": "3.12.1"
  }
 },
 "nbformat": 4,
 "nbformat_minor": 2
}
